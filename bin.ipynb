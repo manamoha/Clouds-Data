{
 "cells": [
  {
   "cell_type": "markdown",
   "metadata": {},
   "source": [
    "number of student:"
   ]
  },
  {
   "cell_type": "code",
   "execution_count": null,
   "metadata": {},
   "outputs": [],
   "source": [
    "num_of_students = len(sample1['کاربر'].nunique)\n",
    "print ( num_of_students)"
   ]
  },
  {
   "cell_type": "markdown",
   "metadata": {},
   "source": [
    "Mean of RT without function :"
   ]
  },
  {
   "cell_type": "code",
   "execution_count": null,
   "metadata": {},
   "outputs": [],
   "source": [
    "RTMean = []\n",
    "\n",
    "sum = RT_mean_level(0)\n",
    "n = 1\n",
    "m = 0\n",
    "for i in range (1 , rows):\n",
    "    if bool(sample1.iloc[i, 7]) is False:\n",
    "        sum = sum + RT_mean_level(i)\n",
    "        n = n+1\n",
    "    else:\n",
    "        RTMean.append(sum/n)\n",
    "        n = 1\n",
    "        m = m+1\n",
    "        sum = RT_mean_level(i)\n",
    "RTMean.append(sum/n)\n",
    "\n",
    "print(RTMean)\n",
    "print(len(RTMean))\n",
    "\n",
    "#x = range(len(RTMean))\n",
    "#plt.scatter(x, RTMean)\n",
    "\n",
    "plt.hist(RTMean)"
   ]
  },
  {
   "cell_type": "markdown",
   "metadata": {},
   "source": [
    "Mean of Score without function :"
   ]
  },
  {
   "cell_type": "code",
   "execution_count": null,
   "metadata": {},
   "outputs": [],
   "source": [
    "ScoreMean = []\n",
    "\n",
    "sum = sample1.iloc[0 , 0]\n",
    "n = 1\n",
    "m = 0\n",
    "for i in range (1 , rows):\n",
    "    if bool(sample1.iloc[i, 7]) is False:\n",
    "        sum = sum + sample1.iloc[i , 0]\n",
    "        n = n+1\n",
    "    else:\n",
    "        ScoreMean.append(sum/n)\n",
    "        n = 1\n",
    "        m = m+1\n",
    "        sum = sample1.iloc[i , 0]\n",
    "ScoreMean.append(sum/n)\n",
    "\n",
    "print(ScoreMean)\n",
    "print(len(ScoreMean))\n",
    "\n",
    "#x = range(len(ScoreMean))\n",
    "#plt.scatter(x, ScoreMean)\n",
    "\n",
    "plt.hist(ScoreMean)"
   ]
  }
 ],
 "metadata": {
  "language_info": {
   "name": "python"
  },
  "orig_nbformat": 4
 },
 "nbformat": 4,
 "nbformat_minor": 2
}
